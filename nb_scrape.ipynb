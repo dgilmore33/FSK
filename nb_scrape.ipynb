{
 "cells": [
  {
   "cell_type": "code",
   "execution_count": 64,
   "metadata": {},
   "outputs": [],
   "source": [
    "from selenium import webdriver\n",
    "from selenium.webdriver.common.by import By"
   ]
  },
  {
   "cell_type": "code",
   "execution_count": 85,
   "metadata": {},
   "outputs": [],
   "source": [
    "driver = webdriver.Chrome()"
   ]
  },
  {
   "cell_type": "code",
   "execution_count": 86,
   "metadata": {},
   "outputs": [],
   "source": [
    "driver.get(\"https://cgmix.uscg.mil/IIR/IIRSearch.aspx\")"
   ]
  },
  {
   "cell_type": "code",
   "execution_count": 87,
   "metadata": {},
   "outputs": [],
   "source": [
    "begin_date_xpath = '//*[@id=\"TextBoxFromDate\"]'\n",
    "\n",
    "begin_date = driver.find_element(By.XPATH, begin_date_xpath)\n",
    "\n",
    "end_date_xpath = '//*[@id=\"TextBoxToDate\"]'\n",
    "end_date = driver.find_element(By.XPATH, end_date_xpath)"
   ]
  },
  {
   "cell_type": "code",
   "execution_count": 88,
   "metadata": {},
   "outputs": [],
   "source": [
    "vessel_service_xpath = \"/html/body/form/div[3]/div/table/tbody/tr[2]/td[2]/table/tbody/tr[1]/td/div/table/tbody/tr[4]/td[2]/select\"\n",
    "vessel_service = driver.find_element(By.XPATH, vessel_service_xpath)\n",
    "\n",
    "involved_org_xpath = \"/html/body/form/div[3]/div/table/tbody/tr[2]/td[2]/table/tbody/tr[1]/td/div/table/tbody/tr[6]/td[2]/input\"\n",
    "involved_org = driver.find_element(By.XPATH, involved_org_xpath)"
   ]
  },
  {
   "cell_type": "code",
   "execution_count": 89,
   "metadata": {},
   "outputs": [],
   "source": [
    "kword_xpath = \"/html/body/form/div[3]/div/table/tbody/tr[2]/td[2]/table/tbody/tr[1]/td/div/table/tbody/tr[8]/td[2]/input\"\n",
    "\n",
    "kword = driver.find_element(By.XPATH, kword_xpath)\n",
    "\n",
    "search_btn_xpath = '/html/body/form/div[3]/div/table/tbody/tr[2]/td[2]/table/tbody/tr[1]/td/div/table/tbody/tr[13]/td/input[1]'\n",
    "search_btn = driver.find_element(By.XPATH, search_btn_xpath)"
   ]
  },
  {
   "cell_type": "code",
   "execution_count": 90,
   "metadata": {},
   "outputs": [],
   "source": [
    "def set_begin_date(date):\n",
    "    begin_date.clear()\n",
    "    begin_date.send_keys(date)\n",
    "\n",
    "def set_end_date(date):\n",
    "    end_date.clear()\n",
    "    end_date.send_keys(date)\n",
    "\n",
    "def set_involved_org(org):\n",
    "    involved_org.clear()\n",
    "    involved_org.send_keys(org)\n",
    "\n",
    "def set_vessel_service(service):\n",
    "    vessel_service.send_keys(service)\n",
    "\n",
    "def set_kword(kw):\n",
    "    kword.clear()\n",
    "    kword.send_keys(kw)"
   ]
  },
  {
   "cell_type": "code",
   "execution_count": 91,
   "metadata": {},
   "outputs": [],
   "source": [
    "set_begin_date(\"01/01/2020\")\n",
    "set_vessel_service(\"Freight Ship\")\n",
    "search_btn.click()"
   ]
  },
  {
   "cell_type": "code",
   "execution_count": 95,
   "metadata": {},
   "outputs": [],
   "source": [
    "table_xpath = '/html/body/form/div[3]/div/table/tbody/tr[2]/td[2]/table/tbody/tr[2]/td/div/table/tbody/tr[5]/td/div/table/tbody'\n",
    "table = driver.find_element(By.XPATH, table_xpath)\n",
    "\n",
    "trs = table.find_elements(By.TAG_NAME, 'tr')"
   ]
  },
  {
   "cell_type": "code",
   "execution_count": 92,
   "metadata": {},
   "outputs": [],
   "source": [
    "def gen_links(trs):\n",
    "    details_links = []\n",
    "    for i, tr in enumerate(trs[1:]):\n",
    "        try:\n",
    "            tds = tr.find_elements(By.TAG_NAME, 'td')\n",
    "            details_link = tds[0].find_element(By.TAG_NAME, 'a')\n",
    "            title = tds[1].text\n",
    "            details_links.append((title, details_link))\n",
    "        except:\n",
    "            print(\"failed on \" + str(i))\n",
    "            details_links.append(tds)\n",
    "    return details_links"
   ]
  },
  {
   "cell_type": "code",
   "execution_count": 96,
   "metadata": {},
   "outputs": [
    {
     "name": "stdout",
     "output_type": "stream",
     "text": [
      "failed on 11\n"
     ]
    },
    {
     "data": {
      "text/plain": [
       "[('ALGOMA BUFFALO - EMERG SHUTDOWN - ANCHORAGE',\n",
       "  <selenium.webdriver.remote.webelement.WebElement (session=\"b9666b48edcb1ad06fe324ed4b0e4d82\", element=\"f.76DB370F488BF551E574D80E1714E4E2.d.AF80462EA16A5826FBBE778B45000AE2.e.77\")>),\n",
       " ('MS-Loss of Propulsion/MV MELOI/City Dock #26',\n",
       "  <selenium.webdriver.remote.webelement.WebElement (session=\"b9666b48edcb1ad06fe324ed4b0e4d82\", element=\"f.76DB370F488BF551E574D80E1714E4E2.d.AF80462EA16A5826FBBE778B45000AE2.e.82\")>),\n",
       " ('WALTER J. MCCARTHY - FIRE',\n",
       "  <selenium.webdriver.remote.webelement.WebElement (session=\"b9666b48edcb1ad06fe324ed4b0e4d82\", element=\"f.76DB370F488BF551E574D80E1714E4E2.d.AF80462EA16A5826FBBE778B45000AE2.e.87\")>),\n",
       " ('SBI PISCES / LOSS OF RPMs - GROUNDING',\n",
       "  <selenium.webdriver.remote.webelement.WebElement (session=\"b9666b48edcb1ad06fe324ed4b0e4d82\", element=\"f.76DB370F488BF551E574D80E1714E4E2.d.AF80462EA16A5826FBBE778B45000AE2.e.92\")>),\n",
       " ('CAPE HUDSON - Loss of Propulsion',\n",
       "  <selenium.webdriver.remote.webelement.WebElement (session=\"b9666b48edcb1ad06fe324ed4b0e4d82\", element=\"f.76DB370F488BF551E574D80E1714E4E2.d.AF80462EA16A5826FBBE778B45000AE2.e.97\")>),\n",
       " ('LADY ROSEBUD Equipment Failure',\n",
       "  <selenium.webdriver.remote.webelement.WebElement (session=\"b9666b48edcb1ad06fe324ed4b0e4d82\", element=\"f.76DB370F488BF551E574D80E1714E4E2.d.AF80462EA16A5826FBBE778B45000AE2.e.102\")>),\n",
       " ('ITV STEVE E. BRYAN / Bridge Allision',\n",
       "  <selenium.webdriver.remote.webelement.WebElement (session=\"b9666b48edcb1ad06fe324ed4b0e4d82\", element=\"f.76DB370F488BF551E574D80E1714E4E2.d.AF80462EA16A5826FBBE778B45000AE2.e.107\")>),\n",
       " ('ITV LEONARD L. WHITTINGTON/ ALLISION',\n",
       "  <selenium.webdriver.remote.webelement.WebElement (session=\"b9666b48edcb1ad06fe324ed4b0e4d82\", element=\"f.76DB370F488BF551E574D80E1714E4E2.d.AF80462EA16A5826FBBE778B45000AE2.e.111\")>),\n",
       " ('M/V CAPE HUDSON - Loss of Propulsion',\n",
       "  <selenium.webdriver.remote.webelement.WebElement (session=\"b9666b48edcb1ad06fe324ed4b0e4d82\", element=\"f.76DB370F488BF551E574D80E1714E4E2.d.AF80462EA16A5826FBBE778B45000AE2.e.116\")>),\n",
       " ('MS-Reduction in Propulsion/ M/V BBC GANGES/HSC',\n",
       "  <selenium.webdriver.remote.webelement.WebElement (session=\"b9666b48edcb1ad06fe324ed4b0e4d82\", element=\"f.76DB370F488BF551E574D80E1714E4E2.d.AF80462EA16A5826FBBE778B45000AE2.e.121\")>),\n",
       " ('1',\n",
       "  <selenium.webdriver.remote.webelement.WebElement (session=\"b9666b48edcb1ad06fe324ed4b0e4d82\", element=\"f.76DB370F488BF551E574D80E1714E4E2.d.AF80462EA16A5826FBBE778B45000AE2.e.134\")>),\n",
       " [<selenium.webdriver.remote.webelement.WebElement (session=\"b9666b48edcb1ad06fe324ed4b0e4d82\", element=\"f.76DB370F488BF551E574D80E1714E4E2.d.AF80462EA16A5826FBBE778B45000AE2.e.123\")>,\n",
       "  <selenium.webdriver.remote.webelement.WebElement (session=\"b9666b48edcb1ad06fe324ed4b0e4d82\", element=\"f.76DB370F488BF551E574D80E1714E4E2.d.AF80462EA16A5826FBBE778B45000AE2.e.124\")>,\n",
       "  <selenium.webdriver.remote.webelement.WebElement (session=\"b9666b48edcb1ad06fe324ed4b0e4d82\", element=\"f.76DB370F488BF551E574D80E1714E4E2.d.AF80462EA16A5826FBBE778B45000AE2.e.125\")>,\n",
       "  <selenium.webdriver.remote.webelement.WebElement (session=\"b9666b48edcb1ad06fe324ed4b0e4d82\", element=\"f.76DB370F488BF551E574D80E1714E4E2.d.AF80462EA16A5826FBBE778B45000AE2.e.126\")>,\n",
       "  <selenium.webdriver.remote.webelement.WebElement (session=\"b9666b48edcb1ad06fe324ed4b0e4d82\", element=\"f.76DB370F488BF551E574D80E1714E4E2.d.AF80462EA16A5826FBBE778B45000AE2.e.127\")>,\n",
       "  <selenium.webdriver.remote.webelement.WebElement (session=\"b9666b48edcb1ad06fe324ed4b0e4d82\", element=\"f.76DB370F488BF551E574D80E1714E4E2.d.AF80462EA16A5826FBBE778B45000AE2.e.128\")>,\n",
       "  <selenium.webdriver.remote.webelement.WebElement (session=\"b9666b48edcb1ad06fe324ed4b0e4d82\", element=\"f.76DB370F488BF551E574D80E1714E4E2.d.AF80462EA16A5826FBBE778B45000AE2.e.129\")>,\n",
       "  <selenium.webdriver.remote.webelement.WebElement (session=\"b9666b48edcb1ad06fe324ed4b0e4d82\", element=\"f.76DB370F488BF551E574D80E1714E4E2.d.AF80462EA16A5826FBBE778B45000AE2.e.130\")>,\n",
       "  <selenium.webdriver.remote.webelement.WebElement (session=\"b9666b48edcb1ad06fe324ed4b0e4d82\", element=\"f.76DB370F488BF551E574D80E1714E4E2.d.AF80462EA16A5826FBBE778B45000AE2.e.131\")>,\n",
       "  <selenium.webdriver.remote.webelement.WebElement (session=\"b9666b48edcb1ad06fe324ed4b0e4d82\", element=\"f.76DB370F488BF551E574D80E1714E4E2.d.AF80462EA16A5826FBBE778B45000AE2.e.132\")>,\n",
       "  <selenium.webdriver.remote.webelement.WebElement (session=\"b9666b48edcb1ad06fe324ed4b0e4d82\", element=\"f.76DB370F488BF551E574D80E1714E4E2.d.AF80462EA16A5826FBBE778B45000AE2.e.133\")>]]"
      ]
     },
     "execution_count": 96,
     "metadata": {},
     "output_type": "execute_result"
    }
   ],
   "source": [
    "gen_links(trs)"
   ]
  },
  {
   "cell_type": "code",
   "execution_count": 171,
   "metadata": {},
   "outputs": [],
   "source": [
    "def refresh_links(driver):\n",
    "    table_xpath = '/html/body/form/div[3]/div/table/tbody/tr[2]/td[2]/table/tbody/tr[2]/td/div/table/tbody/tr[5]/td/div/table/tbody'\n",
    "    table = driver.find_element(By.XPATH, table_xpath)\n",
    "\n",
    "    trs = table.find_elements(By.TAG_NAME, 'tr')\n",
    "    details_links = gen_links(trs[:11])\n",
    "    return details_links"
   ]
  },
  {
   "cell_type": "code",
   "execution_count": 74,
   "metadata": {},
   "outputs": [],
   "source": [
    "def process_page(driver, qa=False):\n",
    "    from time import sleep\n",
    "    from random import randint\n",
    "    sleep(randint(1, 3))\n",
    "    div_xpath = \"/html/body/form/div[3]/table/tbody/tr[2]/td[2]/table/tbody/tr[1]/td/div\"\n",
    "    div = driver.find_element(By.XPATH, div_xpath)\n",
    "    tbls = div.find_elements(By.TAG_NAME, 'table')\n",
    "    pg_tables =[]\n",
    "    for tbl in tbls:\n",
    "        # save tbl text to string\n",
    "        s = tbl.text\n",
    "        pg_tables.append(s)\n",
    "        # print(tbl.text)\n",
    "    if qa:\n",
    "        # need to start at top of page\n",
    "        driver.execute_script(\"window.scrollTo(0, 0)\")\n",
    "        # need to loop over length of page\n",
    "        # can I get the length of the page from the driver object?\n",
    "        ht = driver.execute_script(\"return document.body.scrollHeight\")\n",
    "        for i in range(0, ht, 100):\n",
    "            driver.execute_script(\"window.scrollTo(0, \" + str(i) + \")\")\n",
    "            driver.save_screenshot(str(i) +\"_screenshot.png\")\n",
    "        \n",
    "    # return to previous page\n",
    "    driver.back()\n",
    "    return pg_tables\n"
   ]
  },
  {
   "cell_type": "code",
   "execution_count": 202,
   "metadata": {},
   "outputs": [
    {
     "name": "stderr",
     "output_type": "stream",
     "text": [
      "10it [00:46,  4.69s/it]"
     ]
    },
    {
     "name": "stdout",
     "output_type": "stream",
     "text": [
      "-----saving page 1-----\n"
     ]
    },
    {
     "name": "stderr",
     "output_type": "stream",
     "text": [
      "20it [01:28,  4.01s/it]"
     ]
    },
    {
     "name": "stdout",
     "output_type": "stream",
     "text": [
      "-----saving page 1-----\n"
     ]
    },
    {
     "name": "stderr",
     "output_type": "stream",
     "text": [
      "30it [02:11,  4.03s/it]"
     ]
    },
    {
     "name": "stdout",
     "output_type": "stream",
     "text": [
      "-----saving page 1-----\n"
     ]
    },
    {
     "name": "stderr",
     "output_type": "stream",
     "text": [
      "40it [02:49,  3.64s/it]"
     ]
    },
    {
     "name": "stdout",
     "output_type": "stream",
     "text": [
      "-----saving page 1-----\n"
     ]
    },
    {
     "name": "stderr",
     "output_type": "stream",
     "text": [
      "50it [03:39,  4.33s/it]"
     ]
    },
    {
     "name": "stdout",
     "output_type": "stream",
     "text": [
      "-----saving page 1-----\n",
      "failed on 9\n"
     ]
    },
    {
     "name": "stderr",
     "output_type": "stream",
     "text": [
      "53it [03:53,  4.66s/it]"
     ]
    }
   ],
   "source": [
    "import pickle\n",
    "import tqdm\n",
    "curr = 0\n",
    "ctr = 1\n",
    "c = 1\n",
    "progress = tqdm.tqdm(1670)\n",
    "while True:\n",
    "    print(\"Scraping page \" + str(ctr))\n",
    "    pgs = []\n",
    "    for i in range(10):\n",
    "        links = refresh_links(driver)\n",
    "        links[i][1].click()\n",
    "        title = [\"TITLE: \"+links[i][0]]\n",
    "        pg = process_page(driver)\n",
    "        pgs.append(title + pg)\n",
    "        progress.update(1)\n",
    "    print(\"-\"*5 + \"saving page \" + str(ctr) + \"-\"*5)\n",
    "    with open(\"page_\" + str(ctr) + \".pkl\", \"wb\") as f:\n",
    "        pickle.dump(pgs, f)\n",
    "    ctr += 1\n",
    "    pg_bar_xpath = \"/html/body/form/div[3]/div/table/tbody/tr[2]/td[2]/table/tbody/tr[2]/td/div/table/tbody/tr[5]/td/div/table/tbody/tr[12]/td/table/tbody/tr\"\n",
    "    pg_bar = driver.find_element(By.XPATH, pg_bar_xpath)\n",
    "    curr %= 11\n",
    "    curr += 1\n",
    "    nxt_pg = pg_bar.find_elements(By.TAG_NAME, \"td\")\n",
    "    nxt_pg[curr].click()\n"
   ]
  },
  {
   "cell_type": "code",
   "execution_count": 143,
   "metadata": {},
   "outputs": [],
   "source": [
    "from functools import reduce\n",
    "t1 = pgs[0][0]\n",
    "p1 = map(lambda x: x.replace(\"\\n\", \"\").replace(\"'\", \"\").replace(\"\\r\",\"\").strip(), pgs[0][1:])\n",
    "p1 = \"\\n\".join(p1)"
   ]
  },
  {
   "cell_type": "code",
   "execution_count": 144,
   "metadata": {},
   "outputs": [
    {
     "name": "stdout",
     "output_type": "stream",
     "text": [
      "('Investigation Activity ReportALGOMA BUFFALO - EMERG SHUTDOWN - '\n",
      " 'ANCHORAGEActivity Start Date: Thursday, January 2, 2020MISLE Activity '\n",
      " 'Number: 6881556MISLE Originating Unit: Sector DetroitMISLE Activity Owner: '\n",
      " 'Commandant (CG-INV-3)MISLE Activity Controller:MISLE Case Number: Not '\n",
      " 'Asscoiated with a CaseI. INCIDENT BRIEFThe ALGOMA BUFFALO sustained an '\n",
      " 'equipment failure of a hydraulic line which caused fluid to spray on the '\n",
      " 'port main engine and caused smoke. The Master shut down the main engines and '\n",
      " 'went to emergency anchorage as a precaution. Because of the emergency '\n",
      " 'shutdown and loss of vessel maneuverability the casualty will be '\n",
      " 'investigated at the informal level.\\n'\n",
      " 'II. INCIDENT SUMMARYIncident Involved: Marine Casualty, ReportableLevel of '\n",
      " 'Investigation: InformalIMO Classification: RoutineUSCG Classification: '\n",
      " 'RoutineWas This a Serious Marine Incident? NoWas a Marine Board Convened by '\n",
      " 'Commandant? No\\n'\n",
      " 'Personal Casualty Summary Vessel(s) Status Summary Property Damage '\n",
      " 'SummaryTotal Missing: 0Total Dead: 0Total Injured: 0At Risk, Not Injured: '\n",
      " '0Total Not at Risk: 1Total at Risk: 0 Actual Total Loss(es): 0Total '\n",
      " 'Constructive Loss, Salvaged: 0Total Constructive Loss, Unsalvaged: 0Damaged: '\n",
      " '0Undamaged: 1 Total Damage:Vessel(s): $0Cargo: $0Facility: $0Other: $0*May '\n",
      " 'Include Estimates*\\n'\n",
      " 'III. ACTIONS IN REPONSE TO THIS REPORTActions on Recommendations:NO RECORDED '\n",
      " 'DATASafety Alerts:NO RECORDED DATA\\n'\n",
      " 'IV. FINDINGS OF FACTSubjects of the InvestigationInvolved Vessel(s) Involved '\n",
      " 'FacilitiesVessel Name: ALGOMA BUFFALOVIN: 7620653Role: Involved in a Marine '\n",
      " 'CasualtyNO RECORDED DATAFor additional vessel details, please click here. '\n",
      " 'For additional facility details, please click here.Involved Parties Involved '\n",
      " 'OrganizationsParty Name: Removed for PrivacyNO RECORDED DATAFor additional '\n",
      " 'party details, please click here. For additional organization details, '\n",
      " 'please click here.Response Resources Waterway Segment(s)NO RECORDED '\n",
      " 'DATAWaterway: Lake HuronFor additional response details, please click here. '\n",
      " 'For additional waterway details, please click here.\\n'\n",
      " 'V. REFERRAL FOR ENFORCEMENT ACTIONNO RECORDED DATA')\n"
     ]
    }
   ],
   "source": []
  },
  {
   "cell_type": "code",
   "execution_count": 129,
   "metadata": {},
   "outputs": [
    {
     "data": {
      "text/plain": [
       "'Investigation Activity ReportALGOMA BUFFALO - EMERG SHUTDOWN - ANCHORAGEActivity Start Date: Thursday, January 2, 2020MISLE Activity Number: 6881556MISLE Originating Unit: Sector DetroitMISLE Activity Owner: Commandant (CG-INV-3)MISLE Activity Controller:MISLE Case Number: Not Asscoiated with a CaseI. INCIDENT BRIEFThe ALGOMA BUFFALO sustained an equipment failure of a hydraulic line which caused fluid to spray on the port main engine and caused smoke. The Master shut down the main engines and went to emergency anchorage as a precaution. Because of the emergency shutdown and loss of vessel maneuverability the casualty will be investigated at the informal level.'"
      ]
     },
     "execution_count": 129,
     "metadata": {},
     "output_type": "execute_result"
    }
   ],
   "source": [
    "pgs[0][1].replace(\"\\n\", \"\")"
   ]
  },
  {
   "cell_type": "code",
   "execution_count": 76,
   "metadata": {},
   "outputs": [],
   "source": [
    "import pickle as pk\n",
    "pk.dumps(pgs)\n",
    "with open('pgs.pkl', 'wb') as f:\n",
    "    pk.dump(pgs, f)"
   ]
  },
  {
   "cell_type": "code",
   "execution_count": 77,
   "metadata": {},
   "outputs": [],
   "source": [
    "with open('pgs.pkl', \"rb\") as f:\n",
    "    tst = pk.load(f)"
   ]
  },
  {
   "cell_type": "code",
   "execution_count": 84,
   "metadata": {},
   "outputs": [
    {
     "data": {
      "text/plain": [
       "['Investigation Activity Report\\nALGOMA BUFFALO - EMERG SHUTDOWN - ANCHORAGE\\nActivity Start Date: Thursday, January 2, 2020\\nMISLE Activity Number: 6881556\\nMISLE Originating Unit: Sector Detroit\\nMISLE Activity Owner: Commandant (CG-INV-3)\\nMISLE Activity Controller:\\nMISLE Case Number: Not Asscoiated with a Case\\nI. INCIDENT BRIEF\\nThe ALGOMA BUFFALO sustained an equipment failure of a hydraulic line which caused fluid to spray on the port main engine and caused smoke. The Master shut down the main engines and went to emergency anchorage as a precaution. Because of the emergency shutdown and loss of vessel maneuverability the casualty will be investigated at the informal level.',\n",
       " 'II. INCIDENT SUMMARY\\nIncident Involved: Marine Casualty, Reportable\\nLevel of Investigation: Informal\\nIMO Classification: Routine\\nUSCG Classification: Routine\\nWas This a Serious Marine Incident? No\\nWas a Marine Board Convened by Commandant? No',\n",
       " 'Personal Casualty Summary Vessel(s) Status Summary Property Damage Summary\\nTotal Missing: 0\\nTotal Dead: 0\\nTotal Injured: 0\\nAt Risk, Not Injured: 0\\nTotal Not at Risk: 1\\nTotal at Risk: 0 Actual Total Loss(es): 0\\nTotal Constructive Loss, Salvaged: 0\\nTotal Constructive Loss, Unsalvaged: 0\\nDamaged: 0\\nUndamaged: 1 Total Damage:\\nVessel(s): $0\\nCargo: $0\\nFacility: $0\\nOther: $0\\n\\n*May Include Estimates*',\n",
       " 'III. ACTIONS IN REPONSE TO THIS REPORT\\nActions on Recommendations:\\n\\nNO RECORDED DATA\\nSafety Alerts:\\n\\nNO RECORDED DATA',\n",
       " 'IV. FINDINGS OF FACT\\nSubjects of the Investigation\\nInvolved Vessel(s) Involved Facilities\\n\\nVessel Name: ALGOMA BUFFALO\\nVIN: 7620653\\nRole: Involved in a Marine Casualty\\n\\nNO RECORDED DATA\\nFor additional vessel details, please click here. For additional facility details, please click here.\\nInvolved Parties Involved Organizations\\n\\nParty Name: Removed for Privacy\\n\\nNO RECORDED DATA\\nFor additional party details, please click here. For additional organization details, please click here.\\nResponse Resources Waterway Segment(s)\\n\\nNO RECORDED DATA\\n\\nWaterway: Lake Huron\\nFor additional response details, please click here. For additional waterway details, please click here.',\n",
       " 'V. REFERRAL FOR ENFORCEMENT ACTION\\n\\nNO RECORDED DATA']"
      ]
     },
     "execution_count": 84,
     "metadata": {},
     "output_type": "execute_result"
    }
   ],
   "source": [
    "tst[0]"
   ]
  },
  {
   "cell_type": "code",
   "execution_count": 28,
   "metadata": {},
   "outputs": [],
   "source": [
    "# TODO :: regenerate links each time driver returns to search results .. :("
   ]
  }
 ],
 "metadata": {
  "kernelspec": {
   "display_name": "Scrape",
   "language": "python",
   "name": "python3"
  },
  "language_info": {
   "codemirror_mode": {
    "name": "ipython",
    "version": 3
   },
   "file_extension": ".py",
   "mimetype": "text/x-python",
   "name": "python",
   "nbconvert_exporter": "python",
   "pygments_lexer": "ipython3",
   "version": "3.12.2"
  }
 },
 "nbformat": 4,
 "nbformat_minor": 2
}

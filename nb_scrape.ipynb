{
 "cells": [
  {
   "cell_type": "markdown",
   "metadata": {},
   "source": [
    "# Script behaves decently well, should be cleaned to be made more modular/robust\n",
    "## TODOs\n",
    "* include xpath fetching in helper methods to resolve issues of stale webelements\n",
    "* fix conditional statement for clicking on ellipsis\n",
    "* convert driver loop into function\n",
    "\n",
    "\n",
    "Once these todos are accomplished, the script will be importable, allowing for new scraping of the website. This could lead to a sufficiently large corpus to tune an LLM"
   ]
  },
  {
   "cell_type": "code",
   "execution_count": 25,
   "metadata": {},
   "outputs": [],
   "source": [
    "from selenium import webdriver\n",
    "from selenium.webdriver.common.by import By"
   ]
  },
  {
   "cell_type": "code",
   "execution_count": 26,
   "metadata": {},
   "outputs": [],
   "source": [
    "driver = webdriver.Chrome()"
   ]
  },
  {
   "cell_type": "code",
   "execution_count": 44,
   "metadata": {},
   "outputs": [],
   "source": [
    "driver.get(\"https://cgmix.uscg.mil/IIR/IIRSearch.aspx\")"
   ]
  },
  {
   "cell_type": "code",
   "execution_count": 45,
   "metadata": {},
   "outputs": [],
   "source": [
    "begin_date_xpath = '//*[@id=\"TextBoxFromDate\"]'\n",
    "\n",
    "begin_date = driver.find_element(By.XPATH, begin_date_xpath)\n",
    "\n",
    "end_date_xpath = '//*[@id=\"TextBoxToDate\"]'\n",
    "end_date = driver.find_element(By.XPATH, end_date_xpath)"
   ]
  },
  {
   "cell_type": "code",
   "execution_count": 46,
   "metadata": {},
   "outputs": [],
   "source": [
    "vessel_service_xpath = \"/html/body/form/div[3]/div/table/tbody/tr[2]/td[2]/table/tbody/tr[1]/td/div/table/tbody/tr[4]/td[2]/select\"\n",
    "vessel_service = driver.find_element(By.XPATH, vessel_service_xpath)\n",
    "\n",
    "involved_org_xpath = \"/html/body/form/div[3]/div/table/tbody/tr[2]/td[2]/table/tbody/tr[1]/td/div/table/tbody/tr[6]/td[2]/input\"\n",
    "involved_org = driver.find_element(By.XPATH, involved_org_xpath)"
   ]
  },
  {
   "cell_type": "code",
   "execution_count": 47,
   "metadata": {},
   "outputs": [],
   "source": [
    "kword_xpath = \"/html/body/form/div[3]/div/table/tbody/tr[2]/td[2]/table/tbody/tr[1]/td/div/table/tbody/tr[8]/td[2]/input\"\n",
    "\n",
    "kword = driver.find_element(By.XPATH, kword_xpath)\n",
    "\n",
    "search_btn_xpath = '/html/body/form/div[3]/div/table/tbody/tr[2]/td[2]/table/tbody/tr[1]/td/div/table/tbody/tr[13]/td/input[1]'\n",
    "search_btn = driver.find_element(By.XPATH, search_btn_xpath)"
   ]
  },
  {
   "cell_type": "markdown",
   "metadata": {},
   "source": [
    "include xpath fetching in below helpers"
   ]
  },
  {
   "cell_type": "code",
   "execution_count": 31,
   "metadata": {},
   "outputs": [],
   "source": [
    "def set_begin_date(date):\n",
    "    begin_date.clear()\n",
    "    begin_date.send_keys(date)\n",
    "\n",
    "def set_end_date(date):\n",
    "    end_date.clear()\n",
    "    end_date.send_keys(date)\n",
    "\n",
    "def set_involved_org(org):\n",
    "    involved_org.clear()\n",
    "    involved_org.send_keys(org)\n",
    "\n",
    "def set_vessel_service(service):\n",
    "    vessel_service.send_keys(service)\n",
    "\n",
    "def set_kword(kw):\n",
    "    kword.clear()\n",
    "    kword.send_keys(kw)"
   ]
  },
  {
   "cell_type": "code",
   "execution_count": 48,
   "metadata": {},
   "outputs": [],
   "source": [
    "set_begin_date(\"01/01/2020\")\n",
    "set_vessel_service(\"Freight Ship\")\n",
    "search_btn.click()"
   ]
  },
  {
   "cell_type": "markdown",
   "metadata": {},
   "source": [
    "turn below into a method"
   ]
  },
  {
   "cell_type": "code",
   "execution_count": 49,
   "metadata": {},
   "outputs": [],
   "source": [
    "table_xpath = '/html/body/form/div[3]/div/table/tbody/tr[2]/td[2]/table/tbody/tr[2]/td/div/table/tbody/tr[5]/td/div/table/tbody'\n",
    "table = driver.find_element(By.XPATH, table_xpath)\n",
    "\n",
    "trs = table.find_elements(By.TAG_NAME, 'tr')"
   ]
  },
  {
   "cell_type": "code",
   "execution_count": 50,
   "metadata": {},
   "outputs": [],
   "source": [
    "def gen_links(trs):\n",
    "    details_links = []\n",
    "    for i, tr in enumerate(trs[1:]):\n",
    "        try:\n",
    "            tds = tr.find_elements(By.TAG_NAME, 'td')\n",
    "            details_link = tds[0].find_element(By.TAG_NAME, 'a')\n",
    "            title = tds[1].text\n",
    "            details_links.append((title, details_link))\n",
    "        except:\n",
    "            print(\"failed on \" + str(i))\n",
    "            details_links.append(tds)\n",
    "    return details_links"
   ]
  },
  {
   "cell_type": "code",
   "execution_count": null,
   "metadata": {},
   "outputs": [],
   "source": [
    "gen_links(trs)"
   ]
  },
  {
   "cell_type": "code",
   "execution_count": 52,
   "metadata": {},
   "outputs": [],
   "source": [
    "def refresh_links(driver):\n",
    "    table_xpath = '/html/body/form/div[3]/div/table/tbody/tr[2]/td[2]/table/tbody/tr[2]/td/div/table/tbody/tr[5]/td/div/table/tbody'\n",
    "    table = driver.find_element(By.XPATH, table_xpath)\n",
    "\n",
    "    trs = table.find_elements(By.TAG_NAME, 'tr')\n",
    "    details_links = gen_links(trs[:11])\n",
    "    return details_links"
   ]
  },
  {
   "cell_type": "code",
   "execution_count": 39,
   "metadata": {},
   "outputs": [],
   "source": [
    "def process_page(driver, qa=False):\n",
    "    from time import sleep\n",
    "    from random import randint\n",
    "    sleep(1)\n",
    "    div_xpath = \"/html/body/form/div[3]/table/tbody/tr[2]/td[2]/table/tbody/tr[1]/td/div\"\n",
    "    div = driver.find_element(By.XPATH, div_xpath)\n",
    "    tbls = div.find_elements(By.TAG_NAME, 'table')\n",
    "    pg_tables =[]\n",
    "    for tbl in tbls:\n",
    "        # save tbl text to string\n",
    "        s = tbl.text\n",
    "        pg_tables.append(s)\n",
    "        # print(tbl.text)\n",
    "    if qa:\n",
    "        # need to start at top of page\n",
    "        driver.execute_script(\"window.scrollTo(0, 0)\")\n",
    "        # need to loop over length of page\n",
    "        # can I get the length of the page from the driver object?\n",
    "        ht = driver.execute_script(\"return document.body.scrollHeight\")\n",
    "        for i in range(0, ht, 100):\n",
    "            driver.execute_script(\"window.scrollTo(0, \" + str(i) + \")\")\n",
    "            driver.save_screenshot(str(i) +\"_screenshot.png\")\n",
    "        \n",
    "    # return to previous page\n",
    "    driver.back()\n",
    "    return pg_tables\n"
   ]
  },
  {
   "cell_type": "code",
   "execution_count": null,
   "metadata": {},
   "outputs": [],
   "source": [
    "import pickle\n",
    "import tqdm\n",
    "ctr = 11\n",
    "progress = tqdm.tqdm(1660)\n",
    "while True:\n",
    "    print(\"Scraping page \" + str(ctr))\n",
    "    pgs = []\n",
    "    for i in range(10):\n",
    "        links = refresh_links(driver)\n",
    "        links[i][1].click()\n",
    "        title = [\"TITLE: \"+links[i][0]]\n",
    "        pg = process_page(driver)\n",
    "        pgs.append(title + pg)\n",
    "        progress.update(1)\n",
    "    print(\"-\"*5 + \"saving page \" + str(ctr) + \"-\"*5)\n",
    "    with open(\"2020_Fship/page_\" + str(ctr) + \".pkl\", \"wb\") as f:\n",
    "        pickle.dump(pgs, f)\n",
    "    ctr += 1\n",
    "    pg_bar_xpath = \"/html/body/form/div[3]/div/table/tbody/tr[2]/td[2]/table/tbody/tr[2]/td/div/table/tbody/tr[5]/td/div/table/tbody/tr[12]/td/table/tbody/tr\"\n",
    "    pg_bar = driver.find_element(By.XPATH, pg_bar_xpath)\n",
    "    nxt_pg = pg_bar.find_elements(By.TAG_NAME, \"td\")\n",
    "    target = [x for x in nxt_pg if x.text == str(ctr)]\n",
    "    \n",
    "    # if we can't find the page number, we need to find the ellipsis\n",
    "    if len(target) == 0:\n",
    "        target = [x for x in nxt_pg if x.text == \"...\"]\n",
    "        # for the first 10, there is only one ellipsis\n",
    "        if len(target) == 1:\n",
    "            target = target[0]\n",
    "        # for the rest, there are two\n",
    "        else:\n",
    "            target = target[1]\n",
    "    # Logic is faulty, script will not stop!!!\n",
    "            # target is assigned above, and then referenced below\n",
    "            # changing the expected behavior\n",
    "    else:\n",
    "        target = target[0]\n",
    "    \n",
    "    target.click()\n"
   ]
  },
  {
   "cell_type": "markdown",
   "metadata": {},
   "source": [
    "# Cell below was a quick fix to get the last page of data, see above comments regarding failure towards end of website content"
   ]
  },
  {
   "cell_type": "code",
   "execution_count": null,
   "metadata": {},
   "outputs": [],
   "source": [
    "# for i in range(10):\n",
    "#     links = refresh_links(driver)\n",
    "#     links[i][1].click()\n",
    "#     title = [\"TITLE: \"+links[i][0]]\n",
    "#     print(title[0])\n",
    "#     pg = process_page(driver)\n",
    "#     pgs.append(title + pg)\n",
    "#     progress.update(1)\n",
    "# print(\"-\"*5 + \"saving page \" + \"-\"*5)\n",
    "# with open(\"2020_Fship/page_167\" + \".pkl\", \"wb\") as f:\n",
    "#     pickle.dump(pgs, f)"
   ]
  }
 ],
 "metadata": {
  "kernelspec": {
   "display_name": "Scrape",
   "language": "python",
   "name": "python3"
  },
  "language_info": {
   "codemirror_mode": {
    "name": "ipython",
    "version": 3
   },
   "file_extension": ".py",
   "mimetype": "text/x-python",
   "name": "python",
   "nbconvert_exporter": "python",
   "pygments_lexer": "ipython3",
   "version": "3.12.2"
  }
 },
 "nbformat": 4,
 "nbformat_minor": 2
}
